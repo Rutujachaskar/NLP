{
 "cells": [
  {
   "cell_type": "code",
   "execution_count": 1,
   "id": "f533780d-2fe1-4991-b89a-1bcf319688c5",
   "metadata": {},
   "outputs": [],
   "source": [
    "import spacy"
   ]
  },
  {
   "cell_type": "code",
   "execution_count": 2,
   "id": "f120dd5c-da3c-4214-9744-cfb9a34dce4a",
   "metadata": {},
   "outputs": [],
   "source": [
    "# Load SpaCy English model\n",
    "nlp = spacy.load(\"en_core_web_sm\")"
   ]
  },
  {
   "cell_type": "code",
   "execution_count": 3,
   "id": "dabb08bf-f243-49d6-900a-67161cb07f5f",
   "metadata": {},
   "outputs": [],
   "source": [
    "# Example text\n",
    "text = \"\"\"Apple is planning to open a new office in Bangalore, India by 2025.\n",
    "           Tim Cook, the CEO of Apple, visited India last year to discuss opportunities with Prime Minister Narendra Modi.\"\"\""
   ]
  },
  {
   "cell_type": "code",
   "execution_count": 4,
   "id": "fce6ff84-0dd5-4636-88a1-51c21fdec02c",
   "metadata": {},
   "outputs": [],
   "source": [
    "# Process the text\n",
    "doc = nlp(text)"
   ]
  },
  {
   "cell_type": "code",
   "execution_count": 5,
   "id": "b5651991-f1c8-481e-9b85-5bbc8317b0c2",
   "metadata": {},
   "outputs": [
    {
     "name": "stdout",
     "output_type": "stream",
     "text": [
      "=== Named Entities using SpaCy ===\n",
      "Apple                     | ORG             | Companies, agencies, institutions, etc.\n",
      "Bangalore                 | GPE             | Countries, cities, states\n",
      "India                     | GPE             | Countries, cities, states\n",
      "2025                      | DATE            | Absolute or relative dates or periods\n",
      "Tim Cook                  | PERSON          | People, including fictional\n",
      "Apple                     | ORG             | Companies, agencies, institutions, etc.\n",
      "India                     | GPE             | Countries, cities, states\n",
      "last year                 | DATE            | Absolute or relative dates or periods\n",
      "Narendra Modi             | PERSON          | People, including fictional\n"
     ]
    }
   ],
   "source": [
    "print(\"=== Named Entities using SpaCy ===\")\n",
    "for ent in doc.ents:\n",
    "    print(f\"{ent.text:<25} | {ent.label_:<15} | {spacy.explain(ent.label_)}\")"
   ]
  },
  {
   "cell_type": "code",
   "execution_count": null,
   "id": "e8227cbd-5653-4bb8-abc1-c6b3e5b4fd4d",
   "metadata": {},
   "outputs": [
    {
     "name": "stdout",
     "output_type": "stream",
     "text": [
      "Requirement already satisfied: stanza in c:\\users\\91940\\appdata\\local\\programs\\python\\python312\\lib\\site-packages (1.10.1)"
     ]
    },
    {
     "name": "stderr",
     "output_type": "stream",
     "text": [
      "\n",
      "[notice] A new release of pip is available: 25.0.1 -> 25.2\n",
      "[notice] To update, run: python.exe -m pip install --upgrade pip\n"
     ]
    },
    {
     "name": "stdout",
     "output_type": "stream",
     "text": [
      "\n",
      "Requirement already satisfied: emoji in c:\\users\\91940\\appdata\\local\\programs\\python\\python312\\lib\\site-packages (from stanza) (2.14.1)\n",
      "Requirement already satisfied: numpy in c:\\users\\91940\\appdata\\local\\programs\\python\\python312\\lib\\site-packages (from stanza) (1.26.4)\n",
      "Requirement already satisfied: protobuf>=3.15.0 in c:\\users\\91940\\appdata\\local\\programs\\python\\python312\\lib\\site-packages (from stanza) (6.32.0)\n",
      "Requirement already satisfied: requests in c:\\users\\91940\\appdata\\local\\programs\\python\\python312\\lib\\site-packages (from stanza) (2.32.3)\n",
      "Requirement already satisfied: networkx in c:\\users\\91940\\appdata\\local\\programs\\python\\python312\\lib\\site-packages (from stanza) (3.5)\n",
      "Requirement already satisfied: torch>=1.3.0 in c:\\users\\91940\\appdata\\local\\programs\\python\\python312\\lib\\site-packages (from stanza) (2.8.0)\n",
      "Requirement already satisfied: tqdm in c:\\users\\91940\\appdata\\local\\programs\\python\\python312\\lib\\site-packages (from stanza) (4.67.1)\n",
      "Requirement already satisfied: filelock in c:\\users\\91940\\appdata\\local\\programs\\python\\python312\\lib\\site-packages (from torch>=1.3.0->stanza) (3.16.1)\n",
      "Requirement already satisfied: typing-extensions>=4.10.0 in c:\\users\\91940\\appdata\\local\\programs\\python\\python312\\lib\\site-packages (from torch>=1.3.0->stanza) (4.12.2)\n",
      "Requirement already satisfied: sympy>=1.13.3 in c:\\users\\91940\\appdata\\local\\programs\\python\\python312\\lib\\site-packages (from torch>=1.3.0->stanza) (1.14.0)\n",
      "Requirement already satisfied: jinja2 in c:\\users\\91940\\appdata\\local\\programs\\python\\python312\\lib\\site-packages (from torch>=1.3.0->stanza) (3.1.4)\n",
      "Requirement already satisfied: fsspec in c:\\users\\91940\\appdata\\local\\programs\\python\\python312\\lib\\site-packages (from torch>=1.3.0->stanza) (2025.7.0)\n",
      "Requirement already satisfied: setuptools in c:\\users\\91940\\appdata\\local\\programs\\python\\python312\\lib\\site-packages (from torch>=1.3.0->stanza) (78.1.0)\n",
      "Requirement already satisfied: charset-normalizer<4,>=2 in c:\\users\\91940\\appdata\\local\\programs\\python\\python312\\lib\\site-packages (from requests->stanza) (3.4.0)\n",
      "Requirement already satisfied: idna<4,>=2.5 in c:\\users\\91940\\appdata\\local\\programs\\python\\python312\\lib\\site-packages (from requests->stanza) (3.10)\n",
      "Requirement already satisfied: urllib3<3,>=1.21.1 in c:\\users\\91940\\appdata\\local\\programs\\python\\python312\\lib\\site-packages (from requests->stanza) (2.2.3)\n",
      "Requirement already satisfied: certifi>=2017.4.17 in c:\\users\\91940\\appdata\\local\\programs\\python\\python312\\lib\\site-packages (from requests->stanza) (2024.8.30)\n",
      "Requirement already satisfied: colorama in c:\\users\\91940\\appdata\\local\\programs\\python\\python312\\lib\\site-packages (from tqdm->stanza) (0.4.6)\n",
      "Requirement already satisfied: mpmath<1.4,>=1.1.0 in c:\\users\\91940\\appdata\\local\\programs\\python\\python312\\lib\\site-packages (from sympy>=1.13.3->torch>=1.3.0->stanza) (1.3.0)\n",
      "Requirement already satisfied: MarkupSafe>=2.0 in c:\\users\\91940\\appdata\\local\\programs\\python\\python312\\lib\\site-packages (from jinja2->torch>=1.3.0->stanza) (3.0.1)\n"
     ]
    }
   ],
   "source": [
    "!pip install stanza"
   ]
  },
  {
   "cell_type": "code",
   "execution_count": null,
   "id": "cf0a0444-6aff-45ef-9889-d30eb36352c9",
   "metadata": {},
   "outputs": [
    {
     "data": {
      "application/vnd.jupyter.widget-view+json": {
       "model_id": "1050871970a845af80c18ee1cf2467e3",
       "version_major": 2,
       "version_minor": 0
      },
      "text/plain": [
       "Downloading https://raw.githubusercontent.com/stanfordnlp/stanza-resources/main/resources_1.10.0.json:   0%|  …"
      ]
     },
     "metadata": {},
     "output_type": "display_data"
    },
    {
     "name": "stderr",
     "output_type": "stream",
     "text": [
      "2025-08-19 09:46:32 INFO: Downloaded file to C:\\Users\\91940\\stanza_resources\\resources.json\n",
      "2025-08-19 09:46:32 INFO: Downloading default packages for language: en (English) ...\n",
      "2025-08-19 09:46:35 INFO: File exists: C:\\Users\\91940\\stanza_resources\\en\\default.zip\n",
      "2025-08-19 09:46:42 INFO: Finished downloading models and saved to C:\\Users\\91940\\stanza_resources\n"
     ]
    }
   ],
   "source": [
    "import stanza\n",
    "stanza.download('en')"
   ]
  },
  {
   "cell_type": "code",
   "execution_count": null,
   "id": "61e68d54-550d-4335-964c-d04e160e87e6",
   "metadata": {},
   "outputs": [
    {
     "name": "stderr",
     "output_type": "stream",
     "text": [
      "2025-08-19 09:46:42 INFO: Checking for updates to resources.json in case models have been updated.  Note: this behavior can be turned off with download_method=None or download_method=DownloadMethod.REUSE_RESOURCES\n"
     ]
    },
    {
     "data": {
      "application/vnd.jupyter.widget-view+json": {
       "model_id": "19f2b3e7ff1d48a196afb305a5a44d62",
       "version_major": 2,
       "version_minor": 0
      },
      "text/plain": [
       "Downloading https://raw.githubusercontent.com/stanfordnlp/stanza-resources/main/resources_1.10.0.json:   0%|  …"
      ]
     },
     "metadata": {},
     "output_type": "display_data"
    },
    {
     "name": "stderr",
     "output_type": "stream",
     "text": [
      "2025-08-19 09:46:42 INFO: Downloaded file to C:\\Users\\91940\\stanza_resources\\resources.json\n",
      "2025-08-19 09:46:44 INFO: Loading these models for language: en (English):\n",
      "============================================\n",
      "| Processor    | Package                   |\n",
      "--------------------------------------------\n",
      "| tokenize     | combined                  |\n",
      "| mwt          | combined                  |\n",
      "| pos          | combined_charlm           |\n",
      "| lemma        | combined_nocharlm         |\n",
      "| constituency | ptb3-revised_charlm       |\n",
      "| depparse     | combined_charlm           |\n",
      "| sentiment    | sstplus_charlm            |\n",
      "| ner          | ontonotes-ww-multi_charlm |\n",
      "============================================\n",
      "\n",
      "2025-08-19 09:46:44 INFO: Using device: cpu\n",
      "2025-08-19 09:46:44 INFO: Loading: tokenize\n",
      "2025-08-19 09:46:44 INFO: Loading: mwt\n",
      "2025-08-19 09:46:44 INFO: Loading: pos\n",
      "2025-08-19 09:46:48 INFO: Loading: lemma\n",
      "2025-08-19 09:46:49 INFO: Loading: constituency\n",
      "2025-08-19 09:46:50 INFO: Loading: depparse\n",
      "2025-08-19 09:46:51 INFO: Loading: sentiment\n",
      "2025-08-19 09:46:51 INFO: Loading: ner\n",
      "2025-08-19 09:46:56 INFO: Done loading processors!\n"
     ]
    }
   ],
   "source": [
    "# Load pipeline\n",
    "nlp1 = stanza.Pipeline('en')"
   ]
  },
  {
   "cell_type": "code",
   "execution_count": null,
   "id": "cd46c9ab-4bd5-46f1-97b5-ab4a8e82aaba",
   "metadata": {},
   "outputs": [],
   "source": [
    "doc1 = nlp1(text)"
   ]
  },
  {
   "cell_type": "code",
   "execution_count": null,
   "id": "525de3e3-2cdb-4a34-9759-214dd191b907",
   "metadata": {},
   "outputs": [
    {
     "name": "stdout",
     "output_type": "stream",
     "text": [
      "=== Named Entities using Stanford NLP (Stanza) ===\n",
      "Apple                     | ORG             | Start: 0, End: 5\n",
      "Bangalore                 | GPE             | Start: 42, End: 51\n",
      "India                     | GPE             | Start: 53, End: 58\n",
      "2025                      | DATE            | Start: 62, End: 66\n",
      "Tim Cook                  | PERSON          | Start: 79, End: 87\n",
      "Apple                     | ORG             | Start: 100, End: 105\n",
      "India                     | GPE             | Start: 115, End: 120\n",
      "last year                 | DATE            | Start: 121, End: 130\n",
      "Narendra Modi             | PERSON          | Start: 176, End: 189\n"
     ]
    }
   ],
   "source": [
    "print(\"=== Named Entities using Stanford NLP (Stanza) ===\")\n",
    "for ent in doc1.entities:\n",
    "    print(f\"{ent.text:<25} | {ent.type:<15} | Start: {ent.start_char}, End: {ent.end_char}\")"
   ]
  },
  {
   "cell_type": "code",
   "execution_count": null,
   "id": "e27b4f82-f3bc-45d8-b4f2-eb45e22093df",
   "metadata": {},
   "outputs": [],
   "source": []
  }
 ],
 "metadata": {
  "kernelspec": {
   "display_name": "Python 3 (ipykernel)",
   "language": "python",
   "name": "python3"
  },
  "language_info": {
   "codemirror_mode": {
    "name": "ipython",
    "version": 3
   },
   "file_extension": ".py",
   "mimetype": "text/x-python",
   "name": "python",
   "nbconvert_exporter": "python",
   "pygments_lexer": "ipython3",
   "version": "3.12.6"
  }
 },
 "nbformat": 4,
 "nbformat_minor": 5
}
