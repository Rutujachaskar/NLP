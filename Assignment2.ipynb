{
 "cells": [
  {
   "cell_type": "code",
   "execution_count": 1,
   "id": "b474e275-825c-4fa8-86b2-bfef93fba124",
   "metadata": {},
   "outputs": [],
   "source": [
    "fst_rules = {\n",
    "    \"play\": {\n",
    "        \"ed\": \"play + PAST\",\n",
    "        \"ing\": \"play + GERUND\",\n",
    "        \"s\": \"play + PLURAL / 3rd Person Singular\"\n",
    "    },\n",
    "    \"cat\": {\n",
    "        \"s\": \"cat + PLURAL\"\n",
    "    },\n",
    "    \"run\": {\n",
    "        \"ing\": \"run + GERUND\",\n",
    "        \"s\": \"run + 3rd Person Singular\",\n",
    "        \"ran\": \"run + PAST\"\n",
    "    }\n",
    "}"
   ]
  },
  {
   "cell_type": "code",
   "execution_count": 2,
   "id": "67c773d2-1078-4f5f-83ac-a3ee8ce07889",
   "metadata": {},
   "outputs": [],
   "source": [
    "# Function to apply FST rules\n",
    "def fst_morphological_analysis(word):\n",
    "    for root, rules in fst_rules.items():\n",
    "        # Exact match (root itself)\n",
    "        if word == root:\n",
    "            return f\"{root} + ROOT\"\n",
    "        \n",
    "        # Check suffix-based rules\n",
    "        for suffix, meaning in rules.items():\n",
    "            if word.endswith(suffix):\n",
    "                if word[:-len(suffix)] == root:  # match stem + suffix\n",
    "                    return meaning\n",
    "    \n",
    "    return \"Word not found in FST rules\""
   ]
  },
  {
   "cell_type": "code",
   "execution_count": 3,
   "id": "d01d7341-8728-4c17-bad8-26bdc3d5f80d",
   "metadata": {},
   "outputs": [],
   "source": [
    "# Test words\n",
    "words = [\"play\", \"played\", \"playing\", \"plays\", \"cat\", \"cats\", \"run\", \"runs\", \"running\", \"ran\", \"dog\"]\n"
   ]
  },
  {
   "cell_type": "code",
   "execution_count": 4,
   "id": "5f3c3b45-00cb-48b8-b8f2-74ee1d7d9848",
   "metadata": {},
   "outputs": [
    {
     "name": "stdout",
     "output_type": "stream",
     "text": [
      "Finite-State Transducer (FST) – Morphological Analysis\n",
      "\n",
      "play       → play + ROOT\n",
      "played     → play + PAST\n",
      "playing    → play + GERUND\n",
      "plays      → play + PLURAL / 3rd Person Singular\n",
      "cat        → cat + ROOT\n",
      "cats       → cat + PLURAL\n",
      "run        → run + ROOT\n",
      "runs       → run + 3rd Person Singular\n",
      "running    → Word not found in FST rules\n",
      "ran        → Word not found in FST rules\n",
      "dog        → Word not found in FST rules\n"
     ]
    }
   ],
   "source": [
    "print(\"Finite-State Transducer (FST) – Morphological Analysis\\n\")\n",
    "for w in words:\n",
    "    print(f\"{w:10} → {fst_morphological_analysis(w)}\")"
   ]
  },
  {
   "cell_type": "code",
   "execution_count": 5,
   "id": "76ef5e26-0b75-4b28-a496-4d3142a5a82d",
   "metadata": {},
   "outputs": [
    {
     "name": "stdout",
     "output_type": "stream",
     "text": [
      "Collecting morfessor\n",
      "  Downloading Morfessor-2.0.6-py3-none-any.whl.metadata (628 bytes)\n",
      "Downloading Morfessor-2.0.6-py3-none-any.whl (35 kB)\n",
      "Installing collected packages: morfessor\n",
      "Successfully installed morfessor-2.0.6\n"
     ]
    },
    {
     "name": "stderr",
     "output_type": "stream",
     "text": [
      "\n",
      "[notice] A new release of pip is available: 25.0.1 -> 25.2\n",
      "[notice] To update, run: python.exe -m pip install --upgrade pip\n"
     ]
    }
   ],
   "source": [
    "!pip install morfessor"
   ]
  },
  {
   "cell_type": "code",
   "execution_count": 6,
   "id": "5a4e9da5-0a2f-4889-96d4-4b4e9e7b7647",
   "metadata": {},
   "outputs": [],
   "source": [
    "import morfessor\n",
    "\n",
    "# Training data (list of words)\n",
    "data = [\"playing\", \"played\", \"cats\", \"dogs\", \"taller\", \"tallest\", \"running\", \"happiness\"]"
   ]
  },
  {
   "cell_type": "code",
   "execution_count": 8,
   "id": "133b81d6-b2a2-47df-8c06-92b2d9f10e20",
   "metadata": {},
   "outputs": [],
   "source": [
    "# Initialize model\n",
    "io = morfessor.MorfessorIO()\n",
    "model = morfessor.BaselineModel()"
   ]
  },
  {
   "cell_type": "code",
   "execution_count": 9,
   "id": "50758952-7155-4682-9aa5-5270257046b1",
   "metadata": {},
   "outputs": [
    {
     "name": "stderr",
     "output_type": "stream",
     "text": [
      ".........\n",
      ".........\n"
     ]
    },
    {
     "data": {
      "text/plain": [
       "(2, 202.70021172019867)"
      ]
     },
     "execution_count": 9,
     "metadata": {},
     "output_type": "execute_result"
    }
   ],
   "source": [
    "# Load data with integer frequencies\n",
    "model.load_data([(1, w) for w in data])   # use 1 instead of 1.0\n",
    "model.train_batch()"
   ]
  },
  {
   "cell_type": "code",
   "execution_count": 10,
   "id": "0652842c-069f-4156-8957-427480f4ff8f",
   "metadata": {},
   "outputs": [
    {
     "name": "stdout",
     "output_type": "stream",
     "text": [
      "\n",
      "Morfessor Analysis:\n",
      "playing → (['playing'], 2.833213344056216)\n",
      "played → (['played'], 2.833213344056216)\n",
      "cats → (['cats'], 2.833213344056216)\n",
      "dogs → (['dogs'], 2.833213344056216)\n",
      "taller → (['taller'], 2.833213344056216)\n",
      "tallest → (['tallest'], 2.833213344056216)\n",
      "running → (['running'], 2.833213344056216)\n",
      "happiness → (['happiness'], 2.833213344056216)\n"
     ]
    }
   ],
   "source": [
    "# Analyze words\n",
    "print(\"\\nMorfessor Analysis:\")\n",
    "for word in data:\n",
    "    analysis = model.viterbi_segment(word)\n",
    "    print(f\"{word} → {analysis}\")"
   ]
  },
  {
   "cell_type": "code",
   "execution_count": null,
   "id": "1849a508-b206-42b3-825f-93a75d6d192d",
   "metadata": {},
   "outputs": [],
   "source": []
  }
 ],
 "metadata": {
  "kernelspec": {
   "display_name": "Python 3 (ipykernel)",
   "language": "python",
   "name": "python3"
  },
  "language_info": {
   "codemirror_mode": {
    "name": "ipython",
    "version": 3
   },
   "file_extension": ".py",
   "mimetype": "text/x-python",
   "name": "python",
   "nbconvert_exporter": "python",
   "pygments_lexer": "ipython3",
   "version": "3.12.6"
  }
 },
 "nbformat": 4,
 "nbformat_minor": 5
}
