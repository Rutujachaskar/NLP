{
 "cells": [
  {
   "cell_type": "code",
   "execution_count": 1,
   "id": "76c23638-5fbf-46c1-9c73-e063b5180b00",
   "metadata": {},
   "outputs": [],
   "source": [
    "import nltk\n",
    "from nltk.sentiment.vader import SentimentIntensityAnalyzer\n",
    "from nltk.corpus import sentiwordnet as swn\n",
    "from nltk.corpus import wordnet as wn"
   ]
  },
  {
   "cell_type": "code",
   "execution_count": 2,
   "id": "9762a7ad-4a7c-40c8-a9a2-d56117d0ed7a",
   "metadata": {},
   "outputs": [
    {
     "name": "stderr",
     "output_type": "stream",
     "text": [
      "[nltk_data] Downloading package vader_lexicon to\n",
      "[nltk_data]     C:\\Users\\91940\\AppData\\Roaming\\nltk_data...\n",
      "[nltk_data]   Package vader_lexicon is already up-to-date!\n",
      "[nltk_data] Downloading package sentiwordnet to\n",
      "[nltk_data]     C:\\Users\\91940\\AppData\\Roaming\\nltk_data...\n",
      "[nltk_data]   Package sentiwordnet is already up-to-date!\n",
      "[nltk_data] Downloading package wordnet to\n",
      "[nltk_data]     C:\\Users\\91940\\AppData\\Roaming\\nltk_data...\n",
      "[nltk_data]   Package wordnet is already up-to-date!\n"
     ]
    },
    {
     "data": {
      "text/plain": [
       "True"
      ]
     },
     "execution_count": 2,
     "metadata": {},
     "output_type": "execute_result"
    }
   ],
   "source": [
    "nltk.download('vader_lexicon')\n",
    "nltk.download('sentiwordnet')\n",
    "nltk.download('wordnet')"
   ]
  },
  {
   "cell_type": "code",
   "execution_count": 3,
   "id": "a206f911-7593-4861-b189-ffc4cfb00461",
   "metadata": {},
   "outputs": [],
   "source": [
    "# 1. VADER Sentiment Analyzer\n",
    "vader = SentimentIntensityAnalyzer()\n",
    "def vader_sentiment(text):\n",
    "    score = vader.polarity_scores(text)\n",
    "    return score"
   ]
  },
  {
   "cell_type": "code",
   "execution_count": 4,
   "id": "713e82e1-6d92-46b8-bb63-fe0f89355c6c",
   "metadata": {},
   "outputs": [],
   "source": [
    "# 2. SentiWordNet Analyzer (word-level)\n",
    "def get_sentiment_wordnet(word, pos):\n",
    "    synsets = list(swn.senti_synsets(word, pos))\n",
    "    if not synsets:\n",
    "        return None\n",
    "    # take the first sense (most common meaning)\n",
    "    swn_synset = synsets[0]\n",
    "    return {\n",
    "        'positive': swn_synset.pos_score(),\n",
    "        'negative': swn_synset.neg_score(),\n",
    "        'objective': swn_synset.obj_score()\n",
    "    }"
   ]
  },
  {
   "cell_type": "code",
   "execution_count": 5,
   "id": "5a2cb32b-308b-4d07-8366-b22646a79e89",
   "metadata": {},
   "outputs": [],
   "source": [
    "sentences = [\n",
    "    \"I love this phone, the camera quality is amazing!\",\n",
    "    \"The movie was too long and really boring.\",\n",
    "    \"The product is okay, not too good, not too bad.\",\n",
    "    \"Wow, what a fantastic performance!\",\n",
    "    \"This laptop is terrible, I hate it.\"\n",
    "]"
   ]
  },
  {
   "cell_type": "code",
   "execution_count": 7,
   "id": "b9e0790b-2a1d-43ab-b91e-d8120eea8b9d",
   "metadata": {},
   "outputs": [
    {
     "name": "stdout",
     "output_type": "stream",
     "text": [
      "\n",
      "=== Sentiment Analysis using VADER & SentiWordNet ===\n",
      "\n",
      "Text: I love this phone, the camera quality is amazing!\n",
      "VADER -> {'neg': 0.0, 'neu': 0.42, 'pos': 0.58, 'compound': 0.8516}\n",
      "SentiWordNet ->\n",
      "   i: {'positive': 0.0, 'negative': 0.25, 'objective': 0.75}\n",
      "   quality: {'positive': 0.625, 'negative': 0.0, 'objective': 0.375}\n",
      "----------------------------------------------------------------------\n",
      "Text: The movie was too long and really boring.\n",
      "VADER -> {'neg': 0.27, 'neu': 0.73, 'pos': 0.0, 'compound': -0.3804}\n",
      "SentiWordNet ->\n",
      "   long: {'positive': 0.0, 'negative': 0.0, 'objective': 1.0}\n",
      "----------------------------------------------------------------------\n",
      "Text: The product is okay, not too good, not too bad.\n",
      "VADER -> {'neg': 0.17, 'neu': 0.494, 'pos': 0.336, 'compound': 0.3278}\n",
      "SentiWordNet -> No adjective sentiment words found.\n",
      "----------------------------------------------------------------------\n",
      "Text: Wow, what a fantastic performance!\n",
      "VADER -> {'neg': 0.0, 'neu': 0.206, 'pos': 0.794, 'compound': 0.8268}\n",
      "SentiWordNet ->\n",
      "   fantastic: {'positive': 0.375, 'negative': 0.0, 'objective': 0.625}\n",
      "----------------------------------------------------------------------\n",
      "Text: This laptop is terrible, I hate it.\n",
      "VADER -> {'neg': 0.63, 'neu': 0.37, 'pos': 0.0, 'compound': -0.7783}\n",
      "SentiWordNet ->\n",
      "   i: {'positive': 0.0, 'negative': 0.25, 'objective': 0.75}\n",
      "----------------------------------------------------------------------\n"
     ]
    }
   ],
   "source": [
    "print(\"\\n=== Sentiment Analysis using VADER & SentiWordNet ===\\n\")\n",
    "\n",
    "for text in sentences:\n",
    "    print(f\"Text: {text}\")\n",
    "    \n",
    "    # VADER result\n",
    "    vader_result = vader_sentiment(text)\n",
    "    print(f\"VADER -> {vader_result}\")\n",
    "    \n",
    "    # Simple Word-level analysis with SentiWordNet (only adjectives)\n",
    "    words = [w for w in text.lower().split() if w.isalpha()]  # basic split\n",
    "    wordnet_scores = []\n",
    "    for w in words:\n",
    "        scores = get_sentiment_wordnet(w, 'a')  # adjective analysis\n",
    "        if scores:\n",
    "            wordnet_scores.append((w, scores))\n",
    "    \n",
    "    if wordnet_scores:\n",
    "        print(\"SentiWordNet ->\")\n",
    "        for w, sc in wordnet_scores:\n",
    "            print(f\"   {w}: {sc}\")\n",
    "    else:\n",
    "        print(\"SentiWordNet -> No adjective sentiment words found.\")\n",
    "    \n",
    "    print(\"-\" * 70)"
   ]
  },
  {
   "cell_type": "code",
   "execution_count": null,
   "id": "b21c64ee-af96-41c7-a312-317d001a216f",
   "metadata": {},
   "outputs": [],
   "source": []
  }
 ],
 "metadata": {
  "kernelspec": {
   "display_name": "Python 3 (ipykernel)",
   "language": "python",
   "name": "python3"
  },
  "language_info": {
   "codemirror_mode": {
    "name": "ipython",
    "version": 3
   },
   "file_extension": ".py",
   "mimetype": "text/x-python",
   "name": "python",
   "nbconvert_exporter": "python",
   "pygments_lexer": "ipython3",
   "version": "3.12.6"
  }
 },
 "nbformat": 4,
 "nbformat_minor": 5
}
