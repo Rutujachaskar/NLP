{
 "cells": [
  {
   "cell_type": "code",
   "execution_count": 2,
   "id": "88d74215-2686-4be9-b993-7e6a78c1dc16",
   "metadata": {},
   "outputs": [
    {
     "name": "stdout",
     "output_type": "stream",
     "text": [
      "Collecting spacy\n",
      "  Downloading spacy-3.8.7-cp312-cp312-win_amd64.whl.metadata (28 kB)\n",
      "Collecting spacy-legacy<3.1.0,>=3.0.11 (from spacy)\n",
      "  Using cached spacy_legacy-3.0.12-py2.py3-none-any.whl.metadata (2.8 kB)\n",
      "Collecting spacy-loggers<2.0.0,>=1.0.0 (from spacy)\n",
      "  Using cached spacy_loggers-1.0.5-py3-none-any.whl.metadata (23 kB)\n",
      "Collecting murmurhash<1.1.0,>=0.28.0 (from spacy)\n",
      "  Downloading murmurhash-1.0.13-cp312-cp312-win_amd64.whl.metadata (2.2 kB)\n",
      "Collecting cymem<2.1.0,>=2.0.2 (from spacy)\n",
      "  Using cached cymem-2.0.11-cp312-cp312-win_amd64.whl.metadata (8.8 kB)\n",
      "Collecting preshed<3.1.0,>=3.0.2 (from spacy)\n",
      "  Downloading preshed-3.0.10-cp312-cp312-win_amd64.whl.metadata (2.5 kB)\n",
      "Collecting thinc<8.4.0,>=8.3.4 (from spacy)\n",
      "  Downloading thinc-8.3.6-cp312-cp312-win_amd64.whl.metadata (15 kB)\n",
      "Collecting wasabi<1.2.0,>=0.9.1 (from spacy)\n",
      "  Downloading wasabi-1.1.3-py3-none-any.whl.metadata (28 kB)\n",
      "Collecting srsly<3.0.0,>=2.4.3 (from spacy)\n",
      "  Downloading srsly-2.5.1-cp312-cp312-win_amd64.whl.metadata (20 kB)\n",
      "Collecting catalogue<2.1.0,>=2.0.6 (from spacy)\n",
      "  Downloading catalogue-2.0.10-py3-none-any.whl.metadata (14 kB)\n",
      "Collecting weasel<0.5.0,>=0.1.0 (from spacy)\n",
      "  Downloading weasel-0.4.1-py3-none-any.whl.metadata (4.6 kB)\n",
      "Collecting typer<1.0.0,>=0.3.0 (from spacy)\n",
      "  Downloading typer-0.16.1-py3-none-any.whl.metadata (15 kB)\n",
      "Requirement already satisfied: tqdm<5.0.0,>=4.38.0 in c:\\users\\91940\\appdata\\local\\programs\\python\\python312\\lib\\site-packages (from spacy) (4.67.1)\n",
      "Requirement already satisfied: numpy>=1.19.0 in c:\\users\\91940\\appdata\\local\\programs\\python\\python312\\lib\\site-packages (from spacy) (2.1.2)\n",
      "Requirement already satisfied: requests<3.0.0,>=2.13.0 in c:\\users\\91940\\appdata\\local\\programs\\python\\python312\\lib\\site-packages (from spacy) (2.32.3)\n",
      "Collecting pydantic!=1.8,!=1.8.1,<3.0.0,>=1.7.4 (from spacy)\n",
      "  Downloading pydantic-2.11.7-py3-none-any.whl.metadata (67 kB)\n",
      "Requirement already satisfied: jinja2 in c:\\users\\91940\\appdata\\local\\programs\\python\\python312\\lib\\site-packages (from spacy) (3.1.4)\n",
      "Requirement already satisfied: setuptools in c:\\users\\91940\\appdata\\local\\programs\\python\\python312\\lib\\site-packages (from spacy) (78.1.0)\n",
      "Requirement already satisfied: packaging>=20.0 in c:\\users\\91940\\appdata\\local\\programs\\python\\python312\\lib\\site-packages (from spacy) (24.1)\n",
      "Collecting langcodes<4.0.0,>=3.2.0 (from spacy)\n",
      "  Downloading langcodes-3.5.0-py3-none-any.whl.metadata (29 kB)\n",
      "Collecting language-data>=1.2 (from langcodes<4.0.0,>=3.2.0->spacy)\n",
      "  Downloading language_data-1.3.0-py3-none-any.whl.metadata (4.3 kB)\n",
      "Collecting annotated-types>=0.6.0 (from pydantic!=1.8,!=1.8.1,<3.0.0,>=1.7.4->spacy)\n",
      "  Downloading annotated_types-0.7.0-py3-none-any.whl.metadata (15 kB)\n",
      "Collecting pydantic-core==2.33.2 (from pydantic!=1.8,!=1.8.1,<3.0.0,>=1.7.4->spacy)\n",
      "  Downloading pydantic_core-2.33.2-cp312-cp312-win_amd64.whl.metadata (6.9 kB)\n",
      "Requirement already satisfied: typing-extensions>=4.12.2 in c:\\users\\91940\\appdata\\local\\programs\\python\\python312\\lib\\site-packages (from pydantic!=1.8,!=1.8.1,<3.0.0,>=1.7.4->spacy) (4.12.2)\n",
      "Collecting typing-inspection>=0.4.0 (from pydantic!=1.8,!=1.8.1,<3.0.0,>=1.7.4->spacy)\n",
      "  Downloading typing_inspection-0.4.1-py3-none-any.whl.metadata (2.6 kB)\n",
      "Requirement already satisfied: charset-normalizer<4,>=2 in c:\\users\\91940\\appdata\\local\\programs\\python\\python312\\lib\\site-packages (from requests<3.0.0,>=2.13.0->spacy) (3.4.0)\n",
      "Requirement already satisfied: idna<4,>=2.5 in c:\\users\\91940\\appdata\\local\\programs\\python\\python312\\lib\\site-packages (from requests<3.0.0,>=2.13.0->spacy) (3.10)\n",
      "Requirement already satisfied: urllib3<3,>=1.21.1 in c:\\users\\91940\\appdata\\local\\programs\\python\\python312\\lib\\site-packages (from requests<3.0.0,>=2.13.0->spacy) (2.2.3)\n",
      "Requirement already satisfied: certifi>=2017.4.17 in c:\\users\\91940\\appdata\\local\\programs\\python\\python312\\lib\\site-packages (from requests<3.0.0,>=2.13.0->spacy) (2024.8.30)\n",
      "Collecting blis<1.4.0,>=1.3.0 (from thinc<8.4.0,>=8.3.4->spacy)\n",
      "  Downloading blis-1.3.0-cp312-cp312-win_amd64.whl.metadata (7.6 kB)\n",
      "Collecting confection<1.0.0,>=0.0.1 (from thinc<8.4.0,>=8.3.4->spacy)\n",
      "  Downloading confection-0.1.5-py3-none-any.whl.metadata (19 kB)\n",
      "Requirement already satisfied: colorama in c:\\users\\91940\\appdata\\local\\programs\\python\\python312\\lib\\site-packages (from tqdm<5.0.0,>=4.38.0->spacy) (0.4.6)\n",
      "Requirement already satisfied: click>=8.0.0 in c:\\users\\91940\\appdata\\local\\programs\\python\\python312\\lib\\site-packages (from typer<1.0.0,>=0.3.0->spacy) (8.1.8)\n",
      "Collecting shellingham>=1.3.0 (from typer<1.0.0,>=0.3.0->spacy)\n",
      "  Downloading shellingham-1.5.4-py2.py3-none-any.whl.metadata (3.5 kB)\n",
      "Requirement already satisfied: rich>=10.11.0 in c:\\users\\91940\\appdata\\local\\programs\\python\\python312\\lib\\site-packages (from typer<1.0.0,>=0.3.0->spacy) (14.1.0)\n",
      "Collecting cloudpathlib<1.0.0,>=0.7.0 (from weasel<0.5.0,>=0.1.0->spacy)\n",
      "  Downloading cloudpathlib-0.21.1-py3-none-any.whl.metadata (14 kB)\n",
      "Collecting smart-open<8.0.0,>=5.2.1 (from weasel<0.5.0,>=0.1.0->spacy)\n",
      "  Downloading smart_open-7.3.0.post1-py3-none-any.whl.metadata (24 kB)\n",
      "Requirement already satisfied: MarkupSafe>=2.0 in c:\\users\\91940\\appdata\\local\\programs\\python\\python312\\lib\\site-packages (from jinja2->spacy) (3.0.1)\n",
      "Collecting marisa-trie>=1.1.0 (from language-data>=1.2->langcodes<4.0.0,>=3.2.0->spacy)\n",
      "  Downloading marisa_trie-1.3.0-cp312-cp312-win_amd64.whl.metadata (10 kB)\n",
      "Requirement already satisfied: markdown-it-py>=2.2.0 in c:\\users\\91940\\appdata\\local\\programs\\python\\python312\\lib\\site-packages (from rich>=10.11.0->typer<1.0.0,>=0.3.0->spacy) (4.0.0)\n",
      "Requirement already satisfied: pygments<3.0.0,>=2.13.0 in c:\\users\\91940\\appdata\\local\\programs\\python\\python312\\lib\\site-packages (from rich>=10.11.0->typer<1.0.0,>=0.3.0->spacy) (2.18.0)\n",
      "Requirement already satisfied: wrapt in c:\\users\\91940\\appdata\\local\\programs\\python\\python312\\lib\\site-packages (from smart-open<8.0.0,>=5.2.1->weasel<0.5.0,>=0.1.0->spacy) (1.17.3)\n",
      "Requirement already satisfied: mdurl~=0.1 in c:\\users\\91940\\appdata\\local\\programs\\python\\python312\\lib\\site-packages (from markdown-it-py>=2.2.0->rich>=10.11.0->typer<1.0.0,>=0.3.0->spacy) (0.1.2)\n",
      "Downloading spacy-3.8.7-cp312-cp312-win_amd64.whl (13.9 MB)\n",
      "   ---------------------------------------- 0.0/13.9 MB ? eta -:--:--\n",
      "    --------------------------------------- 0.3/13.9 MB ? eta -:--:--\n",
      "    --------------------------------------- 0.3/13.9 MB ? eta -:--:--\n",
      "   - -------------------------------------- 0.5/13.9 MB 932.9 kB/s eta 0:00:15\n",
      "   - -------------------------------------- 0.5/13.9 MB 932.9 kB/s eta 0:00:15\n",
      "   - -------------------------------------- 0.5/13.9 MB 932.9 kB/s eta 0:00:15\n",
      "   -- ------------------------------------- 0.8/13.9 MB 550.1 kB/s eta 0:00:24\n",
      "   -- ------------------------------------- 0.8/13.9 MB 550.1 kB/s eta 0:00:24\n",
      "   -- ------------------------------------- 0.8/13.9 MB 550.1 kB/s eta 0:00:24\n",
      "   --- ------------------------------------ 1.0/13.9 MB 457.5 kB/s eta 0:00:29\n",
      "   --- ------------------------------------ 1.0/13.9 MB 457.5 kB/s eta 0:00:29\n",
      "   --- ------------------------------------ 1.0/13.9 MB 457.5 kB/s eta 0:00:29\n",
      "   --- ------------------------------------ 1.3/13.9 MB 447.3 kB/s eta 0:00:29\n",
      "   --- ------------------------------------ 1.3/13.9 MB 447.3 kB/s eta 0:00:29\n",
      "   ---- ----------------------------------- 1.6/13.9 MB 487.6 kB/s eta 0:00:26\n",
      "   ------ --------------------------------- 2.1/13.9 MB 628.0 kB/s eta 0:00:19\n",
      "   ------- -------------------------------- 2.6/13.9 MB 740.1 kB/s eta 0:00:16\n",
      "   --------- ------------------------------ 3.1/13.9 MB 862.3 kB/s eta 0:00:13\n",
      "   ----------- ---------------------------- 3.9/13.9 MB 1.0 MB/s eta 0:00:10\n",
      "   ------------- -------------------------- 4.7/13.9 MB 1.2 MB/s eta 0:00:08\n",
      "   --------------- ------------------------ 5.5/13.9 MB 1.3 MB/s eta 0:00:07\n",
      "   ------------------ --------------------- 6.6/13.9 MB 1.5 MB/s eta 0:00:05\n",
      "   --------------------- ------------------ 7.6/13.9 MB 1.7 MB/s eta 0:00:04\n",
      "   ------------------------- -------------- 8.9/13.9 MB 1.9 MB/s eta 0:00:03\n",
      "   ----------------------------- ---------- 10.2/13.9 MB 2.1 MB/s eta 0:00:02\n",
      "   --------------------------------- ------ 11.5/13.9 MB 2.2 MB/s eta 0:00:02\n",
      "   ------------------------------------ --- 12.8/13.9 MB 2.4 MB/s eta 0:00:01\n",
      "   ---------------------------------------  13.9/13.9 MB 2.5 MB/s eta 0:00:01\n",
      "   ---------------------------------------- 13.9/13.9 MB 2.5 MB/s eta 0:00:00\n",
      "Downloading catalogue-2.0.10-py3-none-any.whl (17 kB)\n",
      "Downloading cymem-2.0.11-cp312-cp312-win_amd64.whl (39 kB)\n",
      "Downloading langcodes-3.5.0-py3-none-any.whl (182 kB)\n",
      "Downloading murmurhash-1.0.13-cp312-cp312-win_amd64.whl (24 kB)\n",
      "Downloading preshed-3.0.10-cp312-cp312-win_amd64.whl (116 kB)\n",
      "Downloading pydantic-2.11.7-py3-none-any.whl (444 kB)\n",
      "Downloading pydantic_core-2.33.2-cp312-cp312-win_amd64.whl (2.0 MB)\n",
      "   ---------------------------------------- 0.0/2.0 MB ? eta -:--:--\n",
      "   ---------------- ----------------------- 0.8/2.0 MB 3.7 MB/s eta 0:00:01\n",
      "   -------------------------------- ------- 1.6/2.0 MB 4.2 MB/s eta 0:00:01\n",
      "   ---------------------------------------- 2.0/2.0 MB 3.6 MB/s eta 0:00:00\n",
      "Downloading spacy_legacy-3.0.12-py2.py3-none-any.whl (29 kB)\n",
      "Downloading spacy_loggers-1.0.5-py3-none-any.whl (22 kB)\n",
      "Downloading srsly-2.5.1-cp312-cp312-win_amd64.whl (632 kB)\n",
      "   ---------------------------------------- 0.0/632.6 kB ? eta -:--:--\n",
      "   ---------------- ----------------------- 262.1/632.6 kB ? eta -:--:--\n",
      "   ---------------------------------------- 632.6/632.6 kB 1.2 MB/s eta 0:00:00\n",
      "Downloading thinc-8.3.6-cp312-cp312-win_amd64.whl (1.7 MB)\n",
      "   ---------------------------------------- 0.0/1.7 MB ? eta -:--:--\n",
      "   ----- ---------------------------------- 0.3/1.7 MB ? eta -:--:--\n",
      "   ----------------- ---------------------- 0.8/1.7 MB 2.4 MB/s eta 0:00:01\n",
      "   ----------------------- ---------------- 1.0/1.7 MB 2.3 MB/s eta 0:00:01\n",
      "   ----------------------------- ---------- 1.3/1.7 MB 1.8 MB/s eta 0:00:01\n",
      "   ----------------------------- ---------- 1.3/1.7 MB 1.8 MB/s eta 0:00:01\n",
      "   ----------------------------------- ---- 1.6/1.7 MB 1.4 MB/s eta 0:00:01\n",
      "   ---------------------------------------- 1.7/1.7 MB 1.2 MB/s eta 0:00:00\n",
      "Downloading typer-0.16.1-py3-none-any.whl (46 kB)\n",
      "Downloading wasabi-1.1.3-py3-none-any.whl (27 kB)\n",
      "Downloading weasel-0.4.1-py3-none-any.whl (50 kB)\n",
      "Downloading annotated_types-0.7.0-py3-none-any.whl (13 kB)\n",
      "Downloading blis-1.3.0-cp312-cp312-win_amd64.whl (6.3 MB)\n",
      "   ---------------------------------------- 0.0/6.3 MB ? eta -:--:--\n",
      "   ---------------------------------------- 0.0/6.3 MB ? eta -:--:--\n",
      "   - -------------------------------------- 0.3/6.3 MB ? eta -:--:--\n",
      "   - -------------------------------------- 0.3/6.3 MB ? eta -:--:--\n",
      "   --- ------------------------------------ 0.5/6.3 MB 541.6 kB/s eta 0:00:11\n",
      "   --- ------------------------------------ 0.5/6.3 MB 541.6 kB/s eta 0:00:11\n",
      "   --- ------------------------------------ 0.5/6.3 MB 541.6 kB/s eta 0:00:11\n",
      "   --- ------------------------------------ 0.5/6.3 MB 541.6 kB/s eta 0:00:11\n",
      "   --- ------------------------------------ 0.5/6.3 MB 541.6 kB/s eta 0:00:11\n",
      "   ----- ---------------------------------- 0.8/6.3 MB 372.9 kB/s eta 0:00:15\n",
      "   ----- ---------------------------------- 0.8/6.3 MB 372.9 kB/s eta 0:00:15\n",
      "   ----- ---------------------------------- 0.8/6.3 MB 372.9 kB/s eta 0:00:15\n",
      "   ------ --------------------------------- 1.0/6.3 MB 375.7 kB/s eta 0:00:14\n",
      "   ------ --------------------------------- 1.0/6.3 MB 375.7 kB/s eta 0:00:14\n",
      "   ------ --------------------------------- 1.0/6.3 MB 375.7 kB/s eta 0:00:14\n",
      "   -------- ------------------------------- 1.3/6.3 MB 387.9 kB/s eta 0:00:13\n",
      "   -------- ------------------------------- 1.3/6.3 MB 387.9 kB/s eta 0:00:13\n",
      "   ---------- ----------------------------- 1.6/6.3 MB 399.5 kB/s eta 0:00:12\n",
      "   ----------- ---------------------------- 1.8/6.3 MB 459.6 kB/s eta 0:00:10\n",
      "   --------------- ------------------------ 2.4/6.3 MB 573.6 kB/s eta 0:00:07\n",
      "   ---------------- ----------------------- 2.6/6.3 MB 629.1 kB/s eta 0:00:06\n",
      "   ---------------- ----------------------- 2.6/6.3 MB 629.1 kB/s eta 0:00:06\n",
      "   -------------------- ------------------- 3.1/6.3 MB 666.3 kB/s eta 0:00:05\n",
      "   --------------------- ------------------ 3.4/6.3 MB 704.1 kB/s eta 0:00:05\n",
      "   ------------------------- -------------- 3.9/6.3 MB 783.0 kB/s eta 0:00:03\n",
      "   ---------------------------- ----------- 4.5/6.3 MB 863.2 kB/s eta 0:00:03\n",
      "   ------------------------------ --------- 4.7/6.3 MB 875.0 kB/s eta 0:00:02\n",
      "   --------------------------------- ------ 5.2/6.3 MB 934.8 kB/s eta 0:00:02\n",
      "   ------------------------------------ --- 5.8/6.3 MB 989.8 kB/s eta 0:00:01\n",
      "   ---------------------------------------- 6.3/6.3 MB 1.0 MB/s eta 0:00:00\n",
      "Downloading cloudpathlib-0.21.1-py3-none-any.whl (52 kB)\n",
      "Downloading confection-0.1.5-py3-none-any.whl (35 kB)\n",
      "Downloading language_data-1.3.0-py3-none-any.whl (5.4 MB)\n",
      "   ---------------------------------------- 0.0/5.4 MB ? eta -:--:--\n",
      "   - -------------------------------------- 0.3/5.4 MB ? eta -:--:--\n",
      "   - -------------------------------------- 0.3/5.4 MB ? eta -:--:--\n",
      "   --- ------------------------------------ 0.5/5.4 MB 578.7 kB/s eta 0:00:09\n",
      "   --- ------------------------------------ 0.5/5.4 MB 578.7 kB/s eta 0:00:09\n",
      "   ----- ---------------------------------- 0.8/5.4 MB 699.0 kB/s eta 0:00:07\n",
      "   ----- ---------------------------------- 0.8/5.4 MB 699.0 kB/s eta 0:00:07\n",
      "   --------- ------------------------------ 1.3/5.4 MB 809.1 kB/s eta 0:00:06\n",
      "   ----------- ---------------------------- 1.6/5.4 MB 912.1 kB/s eta 0:00:05\n",
      "   ----------- ---------------------------- 1.6/5.4 MB 912.1 kB/s eta 0:00:05\n",
      "   ------------- -------------------------- 1.8/5.4 MB 891.1 kB/s eta 0:00:04\n",
      "   ------------- -------------------------- 1.8/5.4 MB 891.1 kB/s eta 0:00:04\n",
      "   --------------- ------------------------ 2.1/5.4 MB 804.5 kB/s eta 0:00:05\n",
      "   ------------------- -------------------- 2.6/5.4 MB 938.1 kB/s eta 0:00:03\n",
      "   ------------------------- -------------- 3.4/5.4 MB 1.1 MB/s eta 0:00:02\n",
      "   ------------------------------- -------- 4.2/5.4 MB 1.3 MB/s eta 0:00:01\n",
      "   ----------------------------------- ---- 4.7/5.4 MB 1.4 MB/s eta 0:00:01\n",
      "   -------------------------------------- - 5.2/5.4 MB 1.5 MB/s eta 0:00:01\n",
      "   ---------------------------------------- 5.4/5.4 MB 1.5 MB/s eta 0:00:00\n",
      "Downloading shellingham-1.5.4-py2.py3-none-any.whl (9.8 kB)\n",
      "Downloading smart_open-7.3.0.post1-py3-none-any.whl (61 kB)\n",
      "Downloading typing_inspection-0.4.1-py3-none-any.whl (14 kB)\n",
      "Downloading marisa_trie-1.3.0-cp312-cp312-win_amd64.whl (138 kB)\n",
      "Installing collected packages: cymem, wasabi, typing-inspection, spacy-loggers, spacy-legacy, smart-open, shellingham, pydantic-core, murmurhash, marisa-trie, cloudpathlib, catalogue, blis, annotated-types, srsly, pydantic, preshed, language-data, typer, langcodes, confection, weasel, thinc, spacy\n",
      "Successfully installed annotated-types-0.7.0 blis-1.3.0 catalogue-2.0.10 cloudpathlib-0.21.1 confection-0.1.5 cymem-2.0.11 langcodes-3.5.0 language-data-1.3.0 marisa-trie-1.3.0 murmurhash-1.0.13 preshed-3.0.10 pydantic-2.11.7 pydantic-core-2.33.2 shellingham-1.5.4 smart-open-7.3.0.post1 spacy-3.8.7 spacy-legacy-3.0.12 spacy-loggers-1.0.5 srsly-2.5.1 thinc-8.3.6 typer-0.16.1 typing-inspection-0.4.1 wasabi-1.1.3 weasel-0.4.1\n"
     ]
    },
    {
     "name": "stderr",
     "output_type": "stream",
     "text": [
      "\n",
      "[notice] A new release of pip is available: 25.0.1 -> 25.2\n",
      "[notice] To update, run: python.exe -m pip install --upgrade pip\n"
     ]
    },
    {
     "name": "stdout",
     "output_type": "stream",
     "text": [
      "Collecting en-core-web-sm==3.8.0\n",
      "  Downloading https://github.com/explosion/spacy-models/releases/download/en_core_web_sm-3.8.0/en_core_web_sm-3.8.0-py3-none-any.whl (12.8 MB)\n",
      "     ---------------------------------------- 0.0/12.8 MB ? eta -:--:--\n",
      "     ------ --------------------------------- 2.1/12.8 MB 10.7 MB/s eta 0:00:02\n",
      "     ------------- -------------------------- 4.2/12.8 MB 10.5 MB/s eta 0:00:01\n",
      "     ------------- -------------------------- 4.5/12.8 MB 10.3 MB/s eta 0:00:01\n",
      "     --------------- ------------------------ 5.0/12.8 MB 5.9 MB/s eta 0:00:02\n",
      "     ----------------- ---------------------- 5.5/12.8 MB 5.2 MB/s eta 0:00:02\n",
      "     ------------------ --------------------- 6.0/12.8 MB 4.9 MB/s eta 0:00:02\n",
      "     ------------------- -------------------- 6.3/12.8 MB 4.6 MB/s eta 0:00:02\n",
      "     --------------------- ------------------ 6.8/12.8 MB 4.0 MB/s eta 0:00:02\n",
      "     --------------------- ------------------ 6.8/12.8 MB 4.0 MB/s eta 0:00:02\n",
      "     --------------------- ------------------ 6.8/12.8 MB 4.0 MB/s eta 0:00:02\n",
      "     ---------------------- ----------------- 7.1/12.8 MB 3.2 MB/s eta 0:00:02\n",
      "     ---------------------- ----------------- 7.1/12.8 MB 3.2 MB/s eta 0:00:02\n",
      "     ---------------------- ----------------- 7.3/12.8 MB 2.6 MB/s eta 0:00:03\n",
      "     ---------------------- ----------------- 7.3/12.8 MB 2.6 MB/s eta 0:00:03\n",
      "     ---------------------- ----------------- 7.3/12.8 MB 2.6 MB/s eta 0:00:03\n",
      "     ----------------------- ---------------- 7.6/12.8 MB 2.3 MB/s eta 0:00:03\n",
      "     ----------------------- ---------------- 7.6/12.8 MB 2.3 MB/s eta 0:00:03\n",
      "     ----------------------- ---------------- 7.6/12.8 MB 2.3 MB/s eta 0:00:03\n",
      "     ------------------------ --------------- 7.9/12.8 MB 1.9 MB/s eta 0:00:03\n",
      "     ------------------------ --------------- 7.9/12.8 MB 1.9 MB/s eta 0:00:03\n",
      "     ------------------------- -------------- 8.1/12.8 MB 1.8 MB/s eta 0:00:03\n",
      "     ------------------------- -------------- 8.1/12.8 MB 1.8 MB/s eta 0:00:03\n",
      "     ------------------------- -------------- 8.1/12.8 MB 1.8 MB/s eta 0:00:03\n",
      "     ------------------------- -------------- 8.1/12.8 MB 1.8 MB/s eta 0:00:03\n",
      "     -------------------------- ------------- 8.4/12.8 MB 1.6 MB/s eta 0:00:03\n",
      "     ----------------------------- ---------- 9.4/12.8 MB 1.7 MB/s eta 0:00:02\n",
      "     -------------------------------- ------- 10.5/12.8 MB 1.9 MB/s eta 0:00:02\n",
      "     -------------------------------------- - 12.3/12.8 MB 2.1 MB/s eta 0:00:01\n",
      "     ---------------------------------------- 12.8/12.8 MB 2.1 MB/s eta 0:00:00\n",
      "Installing collected packages: en-core-web-sm\n",
      "Successfully installed en-core-web-sm-3.8.0\n",
      "\u001b[38;5;2m[+] Download and installation successful\u001b[0m\n",
      "You can now load the package via spacy.load('en_core_web_sm')\n"
     ]
    },
    {
     "name": "stderr",
     "output_type": "stream",
     "text": [
      "\n",
      "[notice] A new release of pip is available: 25.0.1 -> 25.2\n",
      "[notice] To update, run: python.exe -m pip install --upgrade pip\n"
     ]
    }
   ],
   "source": [
    "!pip install spacy\n",
    "!python -m spacy download en_core_web_sm"
   ]
  },
  {
   "cell_type": "code",
   "execution_count": 3,
   "id": "802f89ce-5f15-4cbd-a028-c9f5b697dde7",
   "metadata": {},
   "outputs": [],
   "source": [
    "import nltk\n",
    "import spacy\n",
    "import string\n",
    "from nltk.corpus import stopwords\n",
    "from nltk.tokenize import word_tokenize\n",
    "from nltk.stem import PorterStemmer, WordNetLemmatizer"
   ]
  },
  {
   "cell_type": "code",
   "execution_count": 4,
   "id": "0c0a4023-afa1-4f45-990c-f4382169be20",
   "metadata": {},
   "outputs": [
    {
     "name": "stderr",
     "output_type": "stream",
     "text": [
      "[nltk_data] Downloading package punkt to\n",
      "[nltk_data]     C:\\Users\\91940\\AppData\\Roaming\\nltk_data...\n",
      "[nltk_data]   Package punkt is already up-to-date!\n",
      "[nltk_data] Downloading package stopwords to\n",
      "[nltk_data]     C:\\Users\\91940\\AppData\\Roaming\\nltk_data...\n",
      "[nltk_data]   Package stopwords is already up-to-date!\n",
      "[nltk_data] Downloading package wordnet to\n",
      "[nltk_data]     C:\\Users\\91940\\AppData\\Roaming\\nltk_data...\n",
      "[nltk_data]   Package wordnet is already up-to-date!\n"
     ]
    },
    {
     "data": {
      "text/plain": [
       "True"
      ]
     },
     "execution_count": 4,
     "metadata": {},
     "output_type": "execute_result"
    }
   ],
   "source": [
    "nltk.download('punkt')\n",
    "nltk.download('stopwords')\n",
    "nltk.download('wordnet')"
   ]
  },
  {
   "cell_type": "code",
   "execution_count": 5,
   "id": "0160d110-f5da-44dc-ab9a-eee641735272",
   "metadata": {},
   "outputs": [],
   "source": [
    "nlp = spacy.load(\"en_core_web_sm\")"
   ]
  },
  {
   "cell_type": "code",
   "execution_count": 6,
   "id": "07ae9e3c-fd02-45e5-8423-2f4f05fa0582",
   "metadata": {},
   "outputs": [],
   "source": [
    "# Sample text\n",
    "text = \"The quick brown Foxes are jumping over the lazy dogs, isn't it amazing?\"\n"
   ]
  },
  {
   "cell_type": "code",
   "execution_count": 7,
   "id": "72ea8f8f-6561-4a34-a1a0-d69947c76630",
   "metadata": {},
   "outputs": [
    {
     "name": "stdout",
     "output_type": "stream",
     "text": [
      "Original Text:\n",
      "The quick brown Foxes are jumping over the lazy dogs, isn't it amazing?\n",
      "============================================================\n"
     ]
    }
   ],
   "source": [
    "print(\"Original Text:\")\n",
    "print(text)\n",
    "print(\"=\"*60)"
   ]
  },
  {
   "cell_type": "code",
   "execution_count": 8,
   "id": "6f288d50-9724-40eb-8277-1f7e1893b43b",
   "metadata": {},
   "outputs": [
    {
     "name": "stdout",
     "output_type": "stream",
     "text": [
      "1. Lowercasing:\n",
      "the quick brown foxes are jumping over the lazy dogs, isn't it amazing?\n",
      "============================================================\n"
     ]
    }
   ],
   "source": [
    "# 1. Lowercasing\n",
    "lower_text = text.lower()\n",
    "print(\"1. Lowercasing:\")\n",
    "print(lower_text)\n",
    "print(\"=\"*60)"
   ]
  },
  {
   "cell_type": "code",
   "execution_count": 9,
   "id": "905d6b67-30d2-48eb-8c96-0ae74a2f8a01",
   "metadata": {},
   "outputs": [
    {
     "name": "stdout",
     "output_type": "stream",
     "text": [
      "2. Tokenization:\n",
      "['the', 'quick', 'brown', 'foxes', 'are', 'jumping', 'over', 'the', 'lazy', 'dogs', ',', 'is', \"n't\", 'it', 'amazing', '?']\n",
      "============================================================\n"
     ]
    }
   ],
   "source": [
    "# 2. Tokenization\n",
    "tokens = word_tokenize(lower_text)\n",
    "print(\"2. Tokenization:\")\n",
    "print(tokens)\n",
    "print(\"=\"*60)"
   ]
  },
  {
   "cell_type": "code",
   "execution_count": 10,
   "id": "656bb1a8-0aaf-4c2a-883a-fb2e6376eee3",
   "metadata": {},
   "outputs": [
    {
     "name": "stdout",
     "output_type": "stream",
     "text": [
      "3. Stopwords Removed:\n",
      "['quick', 'brown', 'foxes', 'jumping', 'lazy', 'dogs', ',', \"n't\", 'amazing', '?']\n",
      "============================================================\n"
     ]
    }
   ],
   "source": [
    "# 3. Stopwords Removal\n",
    "stop_words = set(stopwords.words(\"english\"))\n",
    "filtered_tokens = [w for w in tokens if w not in stop_words]\n",
    "print(\"3. Stopwords Removed:\")\n",
    "print(filtered_tokens)\n",
    "print(\"=\"*60)"
   ]
  },
  {
   "cell_type": "code",
   "execution_count": 11,
   "id": "6e829a27-bf3a-4063-a3bd-739453c73032",
   "metadata": {},
   "outputs": [
    {
     "name": "stdout",
     "output_type": "stream",
     "text": [
      "4. Punctuation Removed:\n",
      "['quick', 'brown', 'foxes', 'jumping', 'lazy', 'dogs', \"n't\", 'amazing']\n",
      "============================================================\n"
     ]
    }
   ],
   "source": [
    "# 4. Punctuation Removal\n",
    "punct_removed = [w for w in filtered_tokens if w not in string.punctuation]\n",
    "print(\"4. Punctuation Removed:\")\n",
    "print(punct_removed)\n",
    "print(\"=\"*60)"
   ]
  },
  {
   "cell_type": "code",
   "execution_count": 12,
   "id": "cf958afa-d289-48cb-8833-3bb5150ec214",
   "metadata": {},
   "outputs": [
    {
     "name": "stdout",
     "output_type": "stream",
     "text": [
      "5. Stemming:\n",
      "['quick', 'brown', 'fox', 'jump', 'lazi', 'dog', \"n't\", 'amaz']\n",
      "============================================================\n"
     ]
    }
   ],
   "source": [
    "# 5. Stemming\n",
    "stemmer = PorterStemmer()\n",
    "stemmed_tokens = [stemmer.stem(w) for w in punct_removed]\n",
    "print(\"5. Stemming:\")\n",
    "print(stemmed_tokens)\n",
    "print(\"=\"*60)"
   ]
  },
  {
   "cell_type": "code",
   "execution_count": 13,
   "id": "52189673-e4fd-40a7-bb25-8e6de999442b",
   "metadata": {},
   "outputs": [
    {
     "name": "stdout",
     "output_type": "stream",
     "text": [
      "6. Lemmatization:\n",
      "['quick', 'brown', 'fox', 'jumping', 'lazy', 'dog', \"n't\", 'amazing']\n",
      "============================================================\n"
     ]
    }
   ],
   "source": [
    "# 6. Lemmatization\n",
    "lemmatizer = WordNetLemmatizer()\n",
    "lemmatized_tokens = [lemmatizer.lemmatize(w) for w in punct_removed]\n",
    "print(\"6. Lemmatization:\")\n",
    "print(lemmatized_tokens)\n",
    "print(\"=\"*60)"
   ]
  },
  {
   "cell_type": "code",
   "execution_count": 14,
   "id": "6f7ff506-7466-4f99-a198-0a18e57efe49",
   "metadata": {},
   "outputs": [
    {
     "name": "stdout",
     "output_type": "stream",
     "text": [
      "7. Lemmatization with spaCy:\n",
      "['quick', 'brown', 'fox', 'jump', 'lazy', 'dog', 'not', 'amazing']\n"
     ]
    }
   ],
   "source": [
    "# 7. Lemmatization with spaCy (better handling)\n",
    "doc = nlp(\" \".join(punct_removed))\n",
    "spacy_lemmatized = [token.lemma_ for token in doc]\n",
    "print(\"7. Lemmatization with spaCy:\")\n",
    "print(spacy_lemmatized)"
   ]
  },
  {
   "cell_type": "code",
   "execution_count": null,
   "id": "2751b090-4ab8-4d71-af54-bfccc3475a34",
   "metadata": {},
   "outputs": [],
   "source": []
  }
 ],
 "metadata": {
  "kernelspec": {
   "display_name": "Python 3 (ipykernel)",
   "language": "python",
   "name": "python3"
  },
  "language_info": {
   "codemirror_mode": {
    "name": "ipython",
    "version": 3
   },
   "file_extension": ".py",
   "mimetype": "text/x-python",
   "name": "python",
   "nbconvert_exporter": "python",
   "pygments_lexer": "ipython3",
   "version": "3.12.6"
  }
 },
 "nbformat": 4,
 "nbformat_minor": 5
}
