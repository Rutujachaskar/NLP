{
 "cells": [
  {
   "cell_type": "code",
   "execution_count": 1,
   "id": "c4d24ac6-ab28-4d8f-b009-0665f7eb3165",
   "metadata": {},
   "outputs": [],
   "source": [
    "import nltk\n",
    "from nltk.corpus import brown\n",
    "from nltk.tag import hmm"
   ]
  },
  {
   "cell_type": "code",
   "execution_count": 2,
   "id": "b4c354e1-f465-46db-b483-455b68717024",
   "metadata": {},
   "outputs": [
    {
     "name": "stderr",
     "output_type": "stream",
     "text": [
      "[nltk_data] Downloading package brown to\n",
      "[nltk_data]     C:\\Users\\91940\\AppData\\Roaming\\nltk_data...\n",
      "[nltk_data]   Package brown is already up-to-date!\n",
      "[nltk_data] Downloading package universal_tagset to\n",
      "[nltk_data]     C:\\Users\\91940\\AppData\\Roaming\\nltk_data...\n",
      "[nltk_data]   Package universal_tagset is already up-to-date!\n"
     ]
    },
    {
     "data": {
      "text/plain": [
       "True"
      ]
     },
     "execution_count": 2,
     "metadata": {},
     "output_type": "execute_result"
    }
   ],
   "source": [
    "# Download necessary datasets\n",
    "nltk.download(\"brown\")\n",
    "nltk.download(\"universal_tagset\")"
   ]
  },
  {
   "cell_type": "code",
   "execution_count": 3,
   "id": "7dd8738a-2f7d-4a34-866d-8154091eee39",
   "metadata": {},
   "outputs": [],
   "source": [
    "# Load data: Brown corpus with universal tagset (simpler: N, V, ADJ, etc.)\n",
    "tagged_sentences = brown.tagged_sents(tagset=\"universal\")\n"
   ]
  },
  {
   "cell_type": "code",
   "execution_count": 4,
   "id": "481c4f30-ffbc-4c6a-9a32-b9805e9fb5b1",
   "metadata": {},
   "outputs": [],
   "source": [
    "# Split into train and test sets\n",
    "train_data = tagged_sentences[:5000]\n",
    "test_data = tagged_sentences[5000:6000]"
   ]
  },
  {
   "cell_type": "code",
   "execution_count": 5,
   "id": "c523a2c5-b7d7-42e9-8438-5e67c88b5bf6",
   "metadata": {},
   "outputs": [
    {
     "name": "stdout",
     "output_type": "stream",
     "text": [
      "Training examples: [('The', 'DET'), ('Fulton', 'NOUN'), ('County', 'NOUN'), ('Grand', 'ADJ'), ('Jury', 'NOUN'), ('said', 'VERB'), ('Friday', 'NOUN'), ('an', 'DET'), ('investigation', 'NOUN'), ('of', 'ADP'), (\"Atlanta's\", 'NOUN'), ('recent', 'ADJ'), ('primary', 'NOUN'), ('election', 'NOUN'), ('produced', 'VERB'), ('``', '.'), ('no', 'DET'), ('evidence', 'NOUN'), (\"''\", '.'), ('that', 'ADP'), ('any', 'DET'), ('irregularities', 'NOUN'), ('took', 'VERB'), ('place', 'NOUN'), ('.', '.')]\n"
     ]
    }
   ],
   "source": [
    "print(\"Training examples:\", train_data[0])"
   ]
  },
  {
   "cell_type": "code",
   "execution_count": 6,
   "id": "c1396fd2-0912-4110-aeb1-71f255ea8904",
   "metadata": {},
   "outputs": [],
   "source": [
    "# Train HMM Tagger\n",
    "trainer = hmm.HiddenMarkovModelTrainer()\n",
    "hmm_tagger = trainer.train_supervised(train_data)"
   ]
  },
  {
   "cell_type": "code",
   "execution_count": null,
   "id": "e78e8495-2d10-4749-81d5-65a554313a97",
   "metadata": {},
   "outputs": [],
   "source": []
  }
 ],
 "metadata": {
  "kernelspec": {
   "display_name": "Python 3 (ipykernel)",
   "language": "python",
   "name": "python3"
  },
  "language_info": {
   "codemirror_mode": {
    "name": "ipython",
    "version": 3
   },
   "file_extension": ".py",
   "mimetype": "text/x-python",
   "name": "python",
   "nbconvert_exporter": "python",
   "pygments_lexer": "ipython3",
   "version": "3.12.6"
  }
 },
 "nbformat": 4,
 "nbformat_minor": 5
}
